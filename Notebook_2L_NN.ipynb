{
 "cells": [
  {
   "cell_type": "markdown",
   "source": [
    "## Nathaniel Jones\n",
    "#### STAT 4490 Project: Two Layer Neural Network\n",
    "#### Spring 2021"
   ],
   "metadata": {}
  },
  {
   "cell_type": "markdown",
   "source": [
    "# Two-layer NN class object"
   ],
   "metadata": {}
  },
  {
   "cell_type": "code",
   "execution_count": 2,
   "source": [
    "class MultiLayer_Perceptron:\r\n",
    "    import numpy as np\r\n",
    "    from sklearn.utils import shuffle\r\n",
    "    import seaborn as sns\r\n",
    "    from matplotlib import pyplot as plt\r\n",
    "\r\n",
    "    \r\n",
    "    def __init__(stuff, input_nodes, output_nodes, hidden_nodes=None,hidden_nodes2=None):  # Other parameters related \r\n",
    "        stuff.in_nodes = input_nodes                                                       # to modeling are in the fit\r\n",
    "        stuff.out_nodes = output_nodes                                                     # method.\r\n",
    "        stuff.hid_nodes = hidden_nodes\r\n",
    "        stuff.hid_nodes2 = hidden_nodes2\r\n",
    "                \r\n",
    "        if stuff.hid_nodes == None:         # IF the first hidden node parameter is None, THEN continue to line 15. ELSE line 28.\r\n",
    "            if stuff.hid_nodes2 == None:    # IF the second hidden node parameter is None, THEN continue to line 16. ELSE line 20.\r\n",
    "                stuff.layrs = 0  \r\n",
    "                stuff.W_hid2out = stuff.np.random.uniform(-1,1,\r\n",
    "                                                         stuff.out_nodes*(len(stuff.in_nodes.T)+1)\r\n",
    "                                                        ).reshape((len(stuff.in_nodes.T)+1),stuff.out_nodes)\r\n",
    "            elif stuff.hid_nodes2 != None:  # IF the second hidden node parameter is NOT None, THEN continue to line 21.\r\n",
    "                stuff.layrs = 1\r\n",
    "                stuff.W_hid2hid = stuff.np.random.uniform(-1,1,\r\n",
    "                                                          stuff.hid_nodes2*(len(stuff.in_nodes.T)+1)\r\n",
    "                                                         ).reshape(len(stuff.in_nodes.T)+1,stuff.hid_nodes2)\r\n",
    "                stuff.W_hid2out = stuff.np.random.uniform(-1,1,\r\n",
    "                                                          stuff.out_nodes*(stuff.hid_nodes2+1)\r\n",
    "                                                         ).reshape((stuff.hid_nodes2+1),stuff.out_nodes)\r\n",
    "        if stuff.hid_nodes != None:         # IF the first hidden node parameter is NOT None, THEN continue to line 29.\r\n",
    "            if stuff.hid_nodes2 != None:    # IF the second hidden node parameter is NOT None, THEN continue to line 30. ELSE line 40.\r\n",
    "                stuff.layrs = 2\r\n",
    "                stuff.W_in2hid = stuff.np.random.uniform(-1,1,\r\n",
    "                                                         stuff.hid_nodes*(len(stuff.in_nodes.T)+1)\r\n",
    "                                                        ).reshape((len(stuff.in_nodes.T)+1),stuff.hid_nodes)\r\n",
    "                stuff.W_hid2hid = stuff.np.random.uniform(-1,1,\r\n",
    "                                                          stuff.hid_nodes2*(stuff.hid_nodes+1)\r\n",
    "                                                         ).reshape((stuff.hid_nodes+1),stuff.hid_nodes2)\r\n",
    "                stuff.W_hid2out = stuff.np.random.uniform(-1,1,\r\n",
    "                                                          stuff.out_nodes*(stuff.hid_nodes2+1)\r\n",
    "                                                         ).reshape((stuff.hid_nodes2+1),stuff.out_nodes)\r\n",
    "            elif stuff.hid_nodes2 == None:  # IF the first hidden node parameter is None, THEN continue to line 41.\r\n",
    "                stuff.layrs = 1  \r\n",
    "                stuff.W_hid2hid = stuff.np.random.uniform(-1,1,\r\n",
    "                                                          stuff.hid_nodes*(len(stuff.in_nodes.T)+1)\r\n",
    "                                                         ).reshape(len(stuff.in_nodes.T)+1,stuff.hid_nodes)\r\n",
    "                stuff.W_hid2out = stuff.np.random.uniform(-1,1,\r\n",
    "                                                          stuff.out_nodes*(stuff.hid_nodes+1)\r\n",
    "                                                         ).reshape((stuff.hid_nodes+1),stuff.out_nodes)\r\n",
    "    \r\n",
    "#/* ------------------------------------------------------------------------------------------------------------------------ */    \r\n",
    "    def addBias(stuff,xs):\r\n",
    "        return stuff.np.concatenate((np.ones(len(xs)).reshape(-1,1), xs), axis=1)\r\n",
    "        \r\n",
    "    def sigmoid(stuff,nput):\r\n",
    "        return (1/(1+(stuff.np.exp(-nput))))\r\n",
    "    \r\n",
    "    def piece_of(stuff,obj):\r\n",
    "        return obj*(1-obj)\r\n",
    "    \r\n",
    "    def _nextBatch2(stuff, y):\r\n",
    "        from sklearn.utils import shuffle\r\n",
    "        X, y = shuffle(stuff.in_nodes, y, random_state=None)\r\n",
    "        for i in stuff.np.arange(0, X.shape[0], stuff.btch_sze):\r\n",
    "            yield (X[i:i + stuff.btch_sze], y[i:i + stuff.btch_sze]) \r\n",
    "\r\n",
    "    def get_numOF_layers(stuff,p=0):\r\n",
    "        stuff.get_weights(p)\r\n",
    "        return stuff.layrs\r\n",
    "    \r\n",
    "#/* ------------------------------------------------------------------------------------------------------------------------ */         \r\n",
    "#      METHOD: score \r\n",
    "#/* ------------------------------------------------------------------------------------------------------------------------ */       \r\n",
    "    def score(stuff,Y,X):\r\n",
    "        Y = Y.reshape(-1,1)\r\n",
    "        print(\"\\n   Error:     \",round(stuff.np.sum((Y-stuff.feedforward(X))**2),5))\r\n",
    "        print(\"Accuracy:       \",round(1-stuff.np.mean(abs(stuff.np.round(stuff.feedforward(X)-Y))),5)*100)\r\n",
    "        \r\n",
    "#/* ------------------------------------------------------------------------------------------------------------------------ */        \r\n",
    "#      METHOD: Feedforward & Backpropagation\r\n",
    "#/* ------------------------------------------------------------------------------------------------------------------------ */    \r\n",
    "    def feedforward(stuff,xs):\r\n",
    "\r\n",
    "        if stuff.layrs == 0:\r\n",
    "            stuff.Yhat = stuff.sigmoid(stuff.np.matmul(stuff.addBias(xs),stuff.W_hid2out))       # hidden layer to output        \r\n",
    "        if stuff.layrs == 1:\r\n",
    "            stuff.Y1 = stuff.sigmoid(stuff.np.matmul(stuff.addBias(xs),stuff.W_hid2hid))         # hidden layer to hidden layer\r\n",
    "            stuff.Yhat = stuff.sigmoid(stuff.np.matmul(stuff.addBias(stuff.Y1),stuff.W_hid2out)) # hidden layer to output\r\n",
    "        if stuff.layrs == 2:          \r\n",
    "            stuff.Y2 = stuff.sigmoid(stuff.np.matmul(stuff.addBias(xs),stuff.W_in2hid))          # input to hidden layer\r\n",
    "            stuff.Y1 = stuff.sigmoid(stuff.np.matmul(stuff.addBias(stuff.Y2),stuff.W_hid2hid))   # hidden layer to hidden layer\r\n",
    "            stuff.Yhat = stuff.sigmoid(stuff.np.matmul(stuff.addBias(stuff.Y1),stuff.W_hid2out)) # hidden layer to output\r\n",
    "        return stuff.Yhat\r\n",
    "    \r\n",
    "    def backprop(stuff,guess,actual,xs):\r\n",
    "        \r\n",
    "        ERR_deltaG = (guess - actual)*guess*(1-guess)                                           # Compute the initial error\r\n",
    "        \r\n",
    "# FOR zero layer\r\n",
    "        if stuff.layrs == 0:\r\n",
    "          # WEIGHT UPDATE: output to data layer\r\n",
    "            deltaW_xs = 2*(stuff.np.matmul(ERR_deltaG.T,stuff.addBias(xs)))                     # Compute the gradient\r\n",
    "            stuff.W_hid2out = stuff.W_hid2out - deltaW_xs.T*stuff.learning_rate                 # Update the weights: hid2out     \r\n",
    "        \r\n",
    "# FOR one layer\r\n",
    "        if stuff.layrs == 1:\r\n",
    "          # WEIGHT UPDATE: output to hidden layer\r\n",
    "            deltaW_Y1 = 2*(stuff.np.matmul(ERR_deltaG.T,stuff.addBias(stuff.Y1)))               # Compute the gradient\r\n",
    "            stuff.W_hid2out = stuff.W_hid2out - deltaW_Y1.T*stuff.learning_rate                 # Update the weights: hid2out     \r\n",
    "            hodl = (stuff.np.matmul(ERR_deltaG,stuff.W_hid2out[1:].T))*stuff.piece_of(stuff.Y1) # Compute link: _hid2out\r\n",
    "\r\n",
    "          # WEIGHT UPDATE: hidden layer to data layer\r\n",
    "            deltaW_xs = (stuff.np.matmul(hodl.T,stuff.addBias(xs)))                             # Compute the gradient\r\n",
    "            stuff.W_hid2hid = stuff.W_hid2hid - deltaW_xs.T*stuff.learning_rate                 # Update the weights: hid2hid\r\n",
    "        \r\n",
    "# FOR two layer\r\n",
    "        if stuff.layrs == 2:\r\n",
    "          # WEIGHT UPDATE: output to hidden layer\r\n",
    "            deltaW_Y1 = 2*(stuff.np.matmul(ERR_deltaG.T,stuff.addBias(stuff.Y1)))               # Compute the gradient\r\n",
    "            stuff.W_hid2out = stuff.W_hid2out - deltaW_Y1.T*stuff.learning_rate                 # Update the weights: hid2out     \r\n",
    "            hodl = (stuff.np.matmul(ERR_deltaG,stuff.W_hid2out[1:].T))*stuff.piece_of(stuff.Y1) # Compute link: _hid2out\r\n",
    "    \r\n",
    "          # WEIGHT UPDATE: hidden layer to hidden layer\r\n",
    "            deltaW_Y2 = (stuff.np.matmul(hodl.T,stuff.addBias(stuff.Y2)))                       # Compute the gradient\r\n",
    "            stuff.W_hid2hid = stuff.W_hid2hid - deltaW_Y2.T*stuff.learning_rate                 # Update the weights: hid2hid\r\n",
    "            hodl = (stuff.np.matmul(hodl,stuff.W_hid2hid[1:].T))*stuff.piece_of(stuff.Y2)       # Compute link: _hid2hid\r\n",
    "       \r\n",
    "          # WEIGHT UPDATE: hidden layer to data layer\r\n",
    "            deltaW_xs = (stuff.np.matmul(hodl.T,stuff.addBias(xs)))                             # Compute the gradient\r\n",
    "            stuff.W_in2hid = stuff.W_in2hid - deltaW_xs.T*stuff.learning_rate                   # Update the weights: in2hid\r\n",
    "\r\n",
    "#/* ------------------------------------------------------------------------------------------------------------------------ */         \r\n",
    "#      METHOD: Predict \r\n",
    "#/* ------------------------------------------------------------------------------------------------------------------------ */       \r\n",
    "    def predict(stuff,xs):\r\n",
    "        return stuff.feedforward(xs)\r\n",
    "    \r\n",
    "#/* ------------------------------------------------------------------------------------------------------------------------ */         \r\n",
    "#      METHOD: save & get weights \r\n",
    "#/* ------------------------------------------------------------------------------------------------------------------------ */       \r\n",
    "    def get_weights(stuff,prnt=0):\r\n",
    "        if stuff.layrs == 0:\r\n",
    "            if prnt == 1:\r\n",
    "                print(\"W_hid2out:\\n\\n\\n\",stuff.W_hid2out)\r\n",
    "            return stuff.W_hid2out\r\n",
    "        elif stuff.layrs == 1:\r\n",
    "            if prnt == 1:\r\n",
    "                print(\"W_hid2hid:\\n\\n\\n\",stuff.W_hid2hid,\r\n",
    "                      \"\\n\\n\\n\\nW_hid2out:\\n\\n\\n\",stuff.W_hid2out)        \r\n",
    "            return stuff.W_hid2hid, stuff.W_hid2out\r\n",
    "        elif stuff.layrs == 2:\r\n",
    "            if prnt == 1:\r\n",
    "                print(\"W_in2hid:\\n\\n\\n\",stuff.W_in2hid,\r\n",
    "                      \"\\n\\n\\n\\nW_hid2hid:\\n\\n\\n\",stuff.W_hid2hid,\r\n",
    "                      \"\\n\\n\\n\\nW_hid2out:\\n\\n\\n\",stuff.W_hid2out)        \r\n",
    "            return stuff.W_in2hid, stuff.W_hid2hid, stuff.W_hid2out\r\n",
    "        \r\n",
    "    def save_the_weight(stuff):\r\n",
    "        stuff.np.savetxt('current_weights_in2hid.csv', stuff.W_in2hid, delimiter=',')\r\n",
    "        stuff.np.savetxt('current_weights_hid2hid.csv', stuff.W_hid2hid, delimiter=',')\r\n",
    "        stuff.np.savetxt('current_weights_hid2out.csv', stuff.W_hid2out, delimiter=',')\r\n",
    "        return print(\"weights are saved\",stuff.get_weights())    \r\n",
    "\r\n",
    "#/* ------------------------------------------------------------------------------------------------------------------------ */         \r\n",
    "#      METHOD: fit \r\n",
    "#/* ------------------------------------------------------------------------------------------------------------------------ */       \r\n",
    "    def fit(stuff,Y,lr=.01,ep_ch=10,batch_size=8,prt_frq=1):\r\n",
    "        stuff.learning_rate = lr\r\n",
    "        stuff.btch_sze = batch_size\r\n",
    "        stuff.print_freq = prt_frq\r\n",
    "        stuff.ep_ch = ep_ch\r\n",
    "        Y = Y.reshape(-1,1)\r\n",
    "        \r\n",
    "        for epoch in range(int(ep_ch/prt_frq)):\r\n",
    "            for prt_freq in range(prt_frq):\r\n",
    "                for x_batch, y_batch in stuff._nextBatch2(Y):\r\n",
    "                    stuff.backprop(stuff.feedforward(x_batch),y_batch,x_batch)\r\n",
    "            stuff.score(Y,stuff.in_nodes)"
   ],
   "outputs": [],
   "metadata": {}
  },
  {
   "cell_type": "markdown",
   "source": [
    "# READ in data for ata and ata.T"
   ],
   "metadata": {}
  },
  {
   "cell_type": "code",
   "execution_count": 6,
   "source": [
    "from joblib import Memory\r\n",
    "from sklearn.datasets import load_svmlight_file\r\n",
    "from scipy.sparse import csc_matrix\r\n",
    "from scipy.special import expit\r\n",
    "from scipy import sparse\r\n",
    "from sklearn.preprocessing import normalize\r\n",
    "import numpy as np\r\n",
    "import pandas as pd\r\n",
    "from copy import copy\r\n",
    "from sklearn import svm\r\n",
    "import time\r\n",
    "from matplotlib import pyplot as plt\r\n",
    "\r\n",
    "mem = Memory(\"./mycache\")   # cach Benefits for computationally expensive process\r\n",
    "\r\n",
    "\r\n",
    "# Functions\r\n",
    "def get_txt(datafile):  # read txt file\r\n",
    "    data = load_svmlight_file(datafile)\r\n",
    "    return data[0], data[1]\r\n",
    "\r\n",
    "def t_pose(column):  # transpose data\r\n",
    "    t_col = np.einsum('ij->ji',column)\r\n",
    "    return t_col\r\n",
    "\r\n",
    "da_ta = get_txt('a1a.txt')\r\n",
    "\r\n",
    "The_X = da_ta[0]\r\n",
    "The_Z = da_ta[1]\r\n",
    "\r\n",
    "#print(\":: --- The_X --- ::\",\"\\n\",\"\\n\",The_X,\"\\nThe Shape is: \",The_X.shape,\"\\n\",\":: --- The_Z --- ::\",\r\n",
    "#      \"\\n\",\"\\n\",The_Z,\"\\nThe Shape is: \",The_Z.shape)\r\n",
    "\r\n",
    "# From the print statement above we can see that The_X is not usable. .todense() unpacks data like the data in The_X\r\n",
    "\r\n",
    "train = pd.DataFrame(The_X.todense())\r\n",
    "#print(train,\"\\n\")\r\n",
    "\r\n",
    "# Add a column of zeros\r\n",
    "features = train.shape[1]\r\n",
    "#print(features,\"\\n\")\r\n",
    "train[features] = 0\r\n",
    "#print(train,\"\\n\")\r\n",
    "\r\n",
    "min_Z = min(The_Z)\r\n",
    "max_Z = max(The_Z)\r\n",
    "y_train = (The_Z - min_Z)/(max_Z - min_Z)\r\n",
    "#print(min_Z,\"\\n\",\"\\n\",max_Z,\"\\n\",\"\\n\",y)\r\n",
    "\r\n",
    "da_ta2 = get_txt('a1a.t')\r\n",
    "\r\n",
    "The_T = da_ta2[0]\r\n",
    "The_U = da_ta2[1]\r\n",
    "\r\n",
    "The_T = pd.DataFrame(The_T.todense())\r\n",
    "\r\n",
    "# Add a column of zeros\r\n",
    "The_T[features] = 0\r\n",
    "test = The_T.iloc[:,0:(features+1)]\r\n",
    "\r\n",
    "min_U = min(The_U)\r\n",
    "max_U = max(The_U)\r\n",
    "y_test = (The_U-min_U)/(max_U-min_U)"
   ],
   "outputs": [],
   "metadata": {}
  },
  {
   "cell_type": "markdown",
   "source": [
    "### Create 2-L NN architecture"
   ],
   "metadata": {}
  },
  {
   "cell_type": "code",
   "execution_count": 7,
   "source": [
    "MLP_TWOLAYER = MultiLayer_Perceptron(train,1,70,50)\r\n",
    "MLP_ZEROLAYER = MultiLayer_Perceptron(train,1)\r\n",
    "MLP_ONELAYER_A = MultiLayer_Perceptron(train,1,70)\r\n",
    "MLP_ONELAYER_B = MultiLayer_Perceptron(train,1,hidden_nodes2=50)"
   ],
   "outputs": [],
   "metadata": {}
  },
  {
   "cell_type": "code",
   "execution_count": 10,
   "source": [
    "# Input of 1 will return a printout of the weights and the number of layers.\r\n",
    "# Input of 0 will NOT return a printout of the weights but will return the number of layers.\r\n",
    "\r\n",
    "#print(MLP.dome(1))\r\n",
    "#print(MLP2.dome(1))\r\n",
    "#print(MLP3.dome(1))\r\n",
    "#print(MLP4.dome(1))\r\n",
    "\r\n",
    "print(MLP_TWOLAYER.get_numOF_layers(0))\r\n",
    "print(MLP_ZEROLAYER.get_numOF_layers(0))\r\n",
    "print(MLP_ONELAYER_A.get_numOF_layers(0))\r\n",
    "print(MLP_ONELAYER_B.get_numOF_layers(0))"
   ],
   "outputs": [
    {
     "output_type": "stream",
     "name": "stdout",
     "text": [
      "2\n",
      "0\n",
      "1\n",
      "1\n"
     ]
    }
   ],
   "metadata": {}
  },
  {
   "cell_type": "markdown",
   "source": [
    "#### METHOD: fit(target, learning rate, epoch, batch size, print frequency)"
   ],
   "metadata": {}
  },
  {
   "cell_type": "code",
   "execution_count": 11,
   "source": [
    "MLP_TWOLAYER.fit(y_train,lr=.1,ep_ch=100,batch_size=8,prt_frq=1)"
   ],
   "outputs": [
    {
     "output_type": "stream",
     "name": "stdout",
     "text": [
      "\n",
      "   Error:      29.88834\n",
      "Accuracy:        97.944\n",
      "\n",
      "   Error:      28.06641\n",
      "Accuracy:        97.944\n",
      "\n",
      "   Error:      27.8042\n",
      "Accuracy:        97.944\n",
      "\n",
      "   Error:      27.65491\n",
      "Accuracy:        97.944\n",
      "\n",
      "   Error:      28.95502\n",
      "Accuracy:        97.944\n",
      "\n",
      "   Error:      28.97779\n",
      "Accuracy:        97.944\n",
      "\n",
      "   Error:      28.62848\n",
      "Accuracy:        97.944\n",
      "\n",
      "   Error:      27.66569\n",
      "Accuracy:        97.944\n",
      "\n",
      "   Error:      29.06767\n",
      "Accuracy:        97.944\n",
      "\n",
      "   Error:      28.15169\n",
      "Accuracy:        97.944\n",
      "\n",
      "   Error:      31.24438\n",
      "Accuracy:        97.882\n",
      "\n",
      "   Error:      29.02287\n",
      "Accuracy:        97.944\n",
      "\n",
      "   Error:      28.9746\n",
      "Accuracy:        97.882\n",
      "\n",
      "   Error:      29.59096\n",
      "Accuracy:        97.944\n",
      "\n",
      "   Error:      27.70097\n",
      "Accuracy:        97.944\n",
      "\n",
      "   Error:      27.74958\n",
      "Accuracy:        97.944\n",
      "\n",
      "   Error:      32.87167\n",
      "Accuracy:        97.695\n",
      "\n",
      "   Error:      28.18966\n",
      "Accuracy:        97.944\n",
      "\n",
      "   Error:      30.55975\n",
      "Accuracy:        97.882\n",
      "\n",
      "   Error:      29.6868\n",
      "Accuracy:        97.757\n",
      "\n",
      "   Error:      27.62887\n",
      "Accuracy:        97.944\n",
      "\n",
      "   Error:      28.84967\n",
      "Accuracy:        97.819\n",
      "\n",
      "   Error:      27.67897\n",
      "Accuracy:        97.944\n",
      "\n",
      "   Error:      28.35973\n",
      "Accuracy:        97.882\n",
      "\n",
      "   Error:      27.79433\n",
      "Accuracy:        97.944\n",
      "\n",
      "   Error:      29.98085\n",
      "Accuracy:        97.819\n",
      "\n",
      "   Error:      27.75711\n",
      "Accuracy:        97.944\n",
      "\n",
      "   Error:      28.66567\n",
      "Accuracy:        97.944\n",
      "\n",
      "   Error:      27.67403\n",
      "Accuracy:        97.944\n",
      "\n",
      "   Error:      29.18683\n",
      "Accuracy:        97.944\n",
      "\n",
      "   Error:      27.7901\n",
      "Accuracy:        97.944\n",
      "\n",
      "   Error:      27.88076\n",
      "Accuracy:        97.944\n",
      "\n",
      "   Error:      28.24527\n",
      "Accuracy:        97.944\n",
      "\n",
      "   Error:      27.72388\n",
      "Accuracy:        97.944\n",
      "\n",
      "   Error:      30.06359\n",
      "Accuracy:        97.757\n",
      "\n",
      "   Error:      28.0711\n",
      "Accuracy:        97.944\n",
      "\n",
      "   Error:      28.14256\n",
      "Accuracy:        97.944\n",
      "\n",
      "   Error:      27.54888\n",
      "Accuracy:        97.944\n",
      "\n",
      "   Error:      28.24983\n",
      "Accuracy:        97.944\n",
      "\n",
      "   Error:      28.82271\n",
      "Accuracy:        97.819\n",
      "\n",
      "   Error:      27.65703\n",
      "Accuracy:        97.944\n",
      "\n",
      "   Error:      27.67871\n",
      "Accuracy:        97.944\n",
      "\n",
      "   Error:      30.79776\n",
      "Accuracy:        97.882\n",
      "\n",
      "   Error:      29.82421\n",
      "Accuracy:        97.695\n",
      "\n",
      "   Error:      27.69265\n",
      "Accuracy:        97.944\n",
      "\n",
      "   Error:      28.68843\n",
      "Accuracy:        97.882\n",
      "\n",
      "   Error:      28.54095\n",
      "Accuracy:        97.944\n",
      "\n",
      "   Error:      27.60555\n",
      "Accuracy:        97.944\n",
      "\n",
      "   Error:      28.32824\n",
      "Accuracy:        97.944\n",
      "\n",
      "   Error:      27.98089\n",
      "Accuracy:        97.944\n",
      "\n",
      "   Error:      27.69688\n",
      "Accuracy:        97.944\n",
      "\n",
      "   Error:      28.74679\n",
      "Accuracy:        97.944\n",
      "\n",
      "   Error:      27.76498\n",
      "Accuracy:        97.944\n",
      "\n",
      "   Error:      28.0858\n",
      "Accuracy:        97.944\n",
      "\n",
      "   Error:      27.69766\n",
      "Accuracy:        97.944\n",
      "\n",
      "   Error:      27.7487\n",
      "Accuracy:        97.944\n",
      "\n",
      "   Error:      28.96483\n",
      "Accuracy:        97.944\n",
      "\n",
      "   Error:      28.45105\n",
      "Accuracy:        97.944\n",
      "\n",
      "   Error:      34.08587\n",
      "Accuracy:        97.695\n",
      "\n",
      "   Error:      27.96656\n",
      "Accuracy:        97.944\n",
      "\n",
      "   Error:      28.2091\n",
      "Accuracy:        97.944\n",
      "\n",
      "   Error:      29.94253\n",
      "Accuracy:        97.944\n",
      "\n",
      "   Error:      27.57541\n",
      "Accuracy:        97.944\n",
      "\n",
      "   Error:      30.73564\n",
      "Accuracy:        97.882\n",
      "\n",
      "   Error:      27.74\n",
      "Accuracy:        97.944\n",
      "\n",
      "   Error:      27.61651\n",
      "Accuracy:        97.944\n",
      "\n",
      "   Error:      28.5997\n",
      "Accuracy:        97.944\n",
      "\n",
      "   Error:      28.7818\n",
      "Accuracy:        97.944\n",
      "\n",
      "   Error:      28.68851\n",
      "Accuracy:        97.944\n",
      "\n",
      "   Error:      27.62433\n",
      "Accuracy:        97.944\n",
      "\n",
      "   Error:      30.03786\n",
      "Accuracy:        97.882\n",
      "\n",
      "   Error:      27.82826\n",
      "Accuracy:        97.944\n",
      "\n",
      "   Error:      28.21794\n",
      "Accuracy:        97.944\n",
      "\n",
      "   Error:      27.6792\n",
      "Accuracy:        97.944\n",
      "\n",
      "   Error:      29.98298\n",
      "Accuracy:        97.882\n",
      "\n",
      "   Error:      27.5453\n",
      "Accuracy:        97.944\n",
      "\n",
      "   Error:      29.14326\n",
      "Accuracy:        97.944\n",
      "\n",
      "   Error:      27.59938\n",
      "Accuracy:        97.944\n",
      "\n",
      "   Error:      27.58904\n",
      "Accuracy:        97.944\n",
      "\n",
      "   Error:      28.51305\n",
      "Accuracy:        97.944\n",
      "\n",
      "   Error:      27.66798\n",
      "Accuracy:        97.944\n",
      "\n",
      "   Error:      28.78331\n",
      "Accuracy:        97.882\n",
      "\n",
      "   Error:      29.36977\n",
      "Accuracy:        97.944\n",
      "\n",
      "   Error:      27.97428\n",
      "Accuracy:        97.944\n",
      "\n",
      "   Error:      27.57922\n",
      "Accuracy:        97.944\n",
      "\n",
      "   Error:      31.01974\n",
      "Accuracy:        97.695\n",
      "\n",
      "   Error:      28.08028\n",
      "Accuracy:        97.944\n",
      "\n",
      "   Error:      27.66422\n",
      "Accuracy:        97.944\n",
      "\n",
      "   Error:      27.7417\n",
      "Accuracy:        97.944\n",
      "\n",
      "   Error:      27.82803\n",
      "Accuracy:        97.944\n",
      "\n",
      "   Error:      28.79418\n",
      "Accuracy:        97.944\n",
      "\n",
      "   Error:      30.2735\n",
      "Accuracy:        97.695\n",
      "\n",
      "   Error:      30.10123\n",
      "Accuracy:        97.882\n",
      "\n",
      "   Error:      28.53317\n",
      "Accuracy:        97.944\n",
      "\n",
      "   Error:      28.54621\n",
      "Accuracy:        97.944\n",
      "\n",
      "   Error:      28.0382\n",
      "Accuracy:        97.944\n",
      "\n",
      "   Error:      27.50122\n",
      "Accuracy:        97.944\n",
      "\n",
      "   Error:      29.44997\n",
      "Accuracy:        97.944\n",
      "\n",
      "   Error:      28.38016\n",
      "Accuracy:        97.944\n",
      "\n",
      "   Error:      27.57619\n",
      "Accuracy:        97.944\n"
     ]
    }
   ],
   "metadata": {
    "scrolled": true
   }
  },
  {
   "cell_type": "markdown",
   "source": [
    "#### METHOD: predict(inputs)"
   ],
   "metadata": {}
  },
  {
   "cell_type": "code",
   "execution_count": 12,
   "source": [
    "print(\":: TRAINING prediction ::\\n\\n\",MLP_TWOLAYER.predict(train)) # training prediction\r\n",
    "print(\"\\n:: TESTING prediction ::\\n\\n\",MLP_TWOLAYER.predict(test)) # testing prediction"
   ],
   "outputs": [
    {
     "output_type": "stream",
     "name": "stdout",
     "text": [
      ":: TRAINING prediction ::\n",
      "\n",
      " [[1.34282559e-07]\n",
      " [1.50794674e-05]\n",
      " [1.37869391e-03]\n",
      " ...\n",
      " [1.10965085e-12]\n",
      " [2.68246153e-08]\n",
      " [4.92867372e-07]]\n",
      "\n",
      ":: TESTING prediction ::\n",
      "\n",
      " [[8.98171321e-01]\n",
      " [3.15554024e-11]\n",
      " [8.00099701e-02]\n",
      " ...\n",
      " [5.57081493e-06]\n",
      " [5.53976149e-11]\n",
      " [3.45140563e-01]]\n"
     ]
    }
   ],
   "metadata": {}
  },
  {
   "cell_type": "markdown",
   "source": [
    "#### METHOD: score(target, inputs)"
   ],
   "metadata": {}
  },
  {
   "cell_type": "code",
   "execution_count": 13,
   "source": [
    "print(\":: TRAINING ::\")\r\n",
    "MLP_TWOLAYER.score(y_train,train) # training score\r\n",
    "print(\"\\n:: TESTING ::\")\r\n",
    "MLP_TWOLAYER.score(y_test,test)   # testing score"
   ],
   "outputs": [
    {
     "output_type": "stream",
     "name": "stdout",
     "text": [
      ":: TRAINING ::\n",
      "\n",
      "   Error:      27.57619\n",
      "Accuracy:        97.944\n",
      "\n",
      ":: TESTING ::\n",
      "\n",
      "   Error:      5381.08488\n",
      "Accuracy:        80.50500000000001\n"
     ]
    }
   ],
   "metadata": {}
  },
  {
   "cell_type": "markdown",
   "source": [
    "#### METHOD: get_weights()\n",
    "\n",
    "This method returns a tuple with three objects in it"
   ],
   "metadata": {}
  },
  {
   "cell_type": "code",
   "execution_count": 14,
   "source": [
    "wei2_TWOLAYER, wei1_TWOLAYER, wei0_TWOLAYER = MLP_TWOLAYER.get_weights()"
   ],
   "outputs": [],
   "metadata": {}
  },
  {
   "cell_type": "code",
   "execution_count": 15,
   "source": [
    "#print(wei2_TWOLAYER)\r\n",
    "wei2_TWOLAYER[1:].shape"
   ],
   "outputs": [
    {
     "output_type": "execute_result",
     "data": {
      "text/plain": [
       "(120, 70)"
      ]
     },
     "metadata": {},
     "execution_count": 15
    }
   ],
   "metadata": {}
  },
  {
   "cell_type": "code",
   "execution_count": 16,
   "source": [
    "#print(wei1_TWOLAYER)\r\n",
    "wei1_TWOLAYER[1:].shape"
   ],
   "outputs": [
    {
     "output_type": "execute_result",
     "data": {
      "text/plain": [
       "(70, 50)"
      ]
     },
     "metadata": {},
     "execution_count": 16
    }
   ],
   "metadata": {}
  },
  {
   "cell_type": "code",
   "execution_count": null,
   "source": [
    "#print(wei0_TWOLAYER)\r\n",
    "wei0_TWOLAYER[1:].shape"
   ],
   "outputs": [
    {
     "output_type": "execute_result",
     "data": {
      "text/plain": [
       "(50, 1)"
      ]
     },
     "metadata": {},
     "execution_count": 11
    }
   ],
   "metadata": {}
  },
  {
   "cell_type": "markdown",
   "source": [
    "    "
   ],
   "metadata": {}
  },
  {
   "cell_type": "markdown",
   "source": [
    "## Other models with varying layers and hyperparameters"
   ],
   "metadata": {}
  },
  {
   "cell_type": "code",
   "execution_count": 17,
   "source": [
    "MLP_ZEROLAYER.fit(y_train,lr=.1,ep_ch=10,batch_size=8,prt_frq=1)\r\n",
    "print(\"\\n:: TESTING ::\")\r\n",
    "MLP_ZEROLAYER.score(y_test,test)   # testing score"
   ],
   "outputs": [
    {
     "output_type": "stream",
     "name": "stdout",
     "text": [
      "\n",
      "   Error:      207.2013\n",
      "Accuracy:        80.872\n",
      "\n",
      "   Error:      195.46356\n",
      "Accuracy:        81.994\n",
      "\n",
      "   Error:      172.25543\n",
      "Accuracy:        84.798\n",
      "\n",
      "   Error:      175.97128\n",
      "Accuracy:        83.92500000000001\n",
      "\n",
      "   Error:      166.8806\n",
      "Accuracy:        85.358\n",
      "\n",
      "   Error:      167.53915\n",
      "Accuracy:        85.047\n",
      "\n",
      "   Error:      169.27632\n",
      "Accuracy:        85.358\n",
      "\n",
      "   Error:      167.67829\n",
      "Accuracy:        85.17099999999999\n",
      "\n",
      "   Error:      169.63339\n",
      "Accuracy:        84.922\n",
      "\n",
      "   Error:      166.3766\n",
      "Accuracy:        85.17099999999999\n",
      "\n",
      ":: TESTING ::\n",
      "\n",
      "   Error:      3578.00626\n",
      "Accuracy:        83.431\n"
     ]
    }
   ],
   "metadata": {
    "scrolled": true
   }
  },
  {
   "cell_type": "code",
   "execution_count": 18,
   "source": [
    "MLP2_ZEROLAYER = MultiLayer_Perceptron(train,1)\r\n",
    "MLP2_ZEROLAYER.fit(y_train,lr=.01,ep_ch=10,batch_size=8,prt_frq=1)\r\n",
    "print(\"\\n:: TESTING ::\")\r\n",
    "MLP2_ZEROLAYER.score(y_test,test)   # testing score\r\n",
    "print(\" \")\r\n",
    "print(\"Parameters changed: learning rate changed to .01 from .1\")"
   ],
   "outputs": [
    {
     "output_type": "stream",
     "name": "stdout",
     "text": [
      "\n",
      "   Error:      284.99158\n",
      "Accuracy:        75.016\n",
      "\n",
      "   Error:      252.77103\n",
      "Accuracy:        77.757\n",
      "\n",
      "   Error:      234.66482\n",
      "Accuracy:        79.128\n",
      "\n",
      "   Error:      221.16014\n",
      "Accuracy:        80.685\n",
      "\n",
      "   Error:      212.43904\n",
      "Accuracy:        81.184\n",
      "\n",
      "   Error:      205.57573\n",
      "Accuracy:        81.745\n",
      "\n",
      "   Error:      200.3114\n",
      "Accuracy:        82.181\n",
      "\n",
      "   Error:      196.17778\n",
      "Accuracy:        82.804\n",
      "\n",
      "   Error:      193.40015\n",
      "Accuracy:        83.11500000000001\n",
      "\n",
      "   Error:      191.22755\n",
      "Accuracy:        82.555\n",
      "\n",
      ":: TESTING ::\n",
      "\n",
      "   Error:      3705.1144\n",
      "Accuracy:        82.672\n",
      " \n",
      "Parameters changed: learning rate changed to .01 from .1\n"
     ]
    }
   ],
   "metadata": {
    "scrolled": true
   }
  },
  {
   "cell_type": "code",
   "execution_count": 19,
   "source": [
    "MLP3_ZEROLAYER = MultiLayer_Perceptron(train,1)\r\n",
    "MLP3_ZEROLAYER.fit(y_train,lr=.1,ep_ch=10,batch_size=16,prt_frq=1)\r\n",
    "print(\"\\n:: TESTING ::\")\r\n",
    "MLP3_ZEROLAYER.score(y_test,test)   # testing score\r\n",
    "print(\" \")\r\n",
    "print(\"Parameters changed: batch size changed to 16 from 8\")"
   ],
   "outputs": [
    {
     "output_type": "stream",
     "name": "stdout",
     "text": [
      "\n",
      "   Error:      189.06924\n",
      "Accuracy:        82.30499999999999\n",
      "\n",
      "   Error:      175.25416\n",
      "Accuracy:        83.364\n",
      "\n",
      "   Error:      170.09594\n",
      "Accuracy:        85.047\n",
      "\n",
      "   Error:      170.96599\n",
      "Accuracy:        85.109\n",
      "\n",
      "   Error:      169.84073\n",
      "Accuracy:        84.922\n",
      "\n",
      "   Error:      162.85509\n",
      "Accuracy:        86.604\n",
      "\n",
      "   Error:      168.63329\n",
      "Accuracy:        85.358\n",
      "\n",
      "   Error:      169.11268\n",
      "Accuracy:        84.299\n",
      "\n",
      "   Error:      190.72461\n",
      "Accuracy:        82.741\n",
      "\n",
      "   Error:      161.24083\n",
      "Accuracy:        86.417\n",
      "\n",
      ":: TESTING ::\n",
      "\n",
      "   Error:      3472.1557\n",
      "Accuracy:        83.884\n",
      " \n",
      "Parameters changed: batch size changed to 16 from 8\n"
     ]
    }
   ],
   "metadata": {
    "scrolled": true
   }
  },
  {
   "cell_type": "code",
   "execution_count": 20,
   "source": [
    "MLP4_ZEROLAYER = MultiLayer_Perceptron(train,1)\r\n",
    "MLP4_ZEROLAYER.fit(y_train,lr=.01,ep_ch=10,batch_size=16,prt_frq=1)\r\n",
    "print(\"\\n:: TESTING ::\")\r\n",
    "MLP4_ZEROLAYER.score(y_test,test)   # testing score\r\n",
    "print(\" \")\r\n",
    "print(\"Parameters changed: learning rate changed to .01 from .1 and batch size changed to 16 from 8\")"
   ],
   "outputs": [
    {
     "output_type": "stream",
     "name": "stdout",
     "text": [
      "\n",
      "   Error:      294.57847\n",
      "Accuracy:        73.64500000000001\n",
      "\n",
      "   Error:      258.64679\n",
      "Accuracy:        76.57300000000001\n",
      "\n",
      "   Error:      239.29932\n",
      "Accuracy:        78.754\n",
      "\n",
      "   Error:      227.22349\n",
      "Accuracy:        79.56400000000001\n",
      "\n",
      "   Error:      218.2093\n",
      "Accuracy:        80.312\n",
      "\n",
      "   Error:      212.00243\n",
      "Accuracy:        80.74799999999999\n",
      "\n",
      "   Error:      206.30585\n",
      "Accuracy:        81.184\n",
      "\n",
      "   Error:      201.89129\n",
      "Accuracy:        81.869\n",
      "\n",
      "   Error:      198.2915\n",
      "Accuracy:        82.243\n",
      "\n",
      "   Error:      195.57489\n",
      "Accuracy:        82.804\n",
      "\n",
      ":: TESTING ::\n",
      "\n",
      "   Error:      3835.4072\n",
      "Accuracy:        82.16799999999999\n",
      " \n",
      "Parameters changed: learning rate changed to .01 from .1 and batch size changed to 16 from 8\n"
     ]
    }
   ],
   "metadata": {
    "scrolled": true
   }
  },
  {
   "cell_type": "markdown",
   "source": [
    "ONE LAYER and the user used the first hidden_node parameter"
   ],
   "metadata": {}
  },
  {
   "cell_type": "code",
   "execution_count": 21,
   "source": [
    "MLP_ONELAYER_A.fit(y_train,lr=.1,ep_ch=10,batch_size=8,prt_frq=1)\r\n",
    "print(\"\\n:: TESTING ::\")\r\n",
    "MLP_ONELAYER_A.score(y_test,test)   # testing score"
   ],
   "outputs": [
    {
     "output_type": "stream",
     "name": "stdout",
     "text": [
      "\n",
      "   Error:      222.2921\n",
      "Accuracy:        81.121\n",
      "\n",
      "   Error:      189.45271\n",
      "Accuracy:        83.11500000000001\n",
      "\n",
      "   Error:      183.0153\n",
      "Accuracy:        83.92500000000001\n",
      "\n",
      "   Error:      179.62457\n",
      "Accuracy:        82.866\n",
      "\n",
      "   Error:      182.65631\n",
      "Accuracy:        83.67599999999999\n",
      "\n",
      "   Error:      170.8309\n",
      "Accuracy:        85.421\n",
      "\n",
      "   Error:      179.8534\n",
      "Accuracy:        83.738\n",
      "\n",
      "   Error:      199.29634\n",
      "Accuracy:        82.30499999999999\n",
      "\n",
      "   Error:      162.20433\n",
      "Accuracy:        86.10600000000001\n",
      "\n",
      "   Error:      174.55709\n",
      "Accuracy:        84.486\n",
      "\n",
      ":: TESTING ::\n",
      "\n",
      "   Error:      3840.506\n",
      "Accuracy:        83.292\n"
     ]
    }
   ],
   "metadata": {
    "scrolled": true
   }
  },
  {
   "cell_type": "code",
   "execution_count": null,
   "source": [
    "MLP2_ONELAYER_A = MultiLayer_Perceptron(train,1,2)\r\n",
    "MLP2_ONELAYER_A.fit(y_train,lr=.1,ep_ch=10,batch_size=8,prt_frq=1)\r\n",
    "print(\"\\n:: TESTING ::\")\r\n",
    "MLP2_ONELAYER_A.score(y_test,test)   # testing score\r\n",
    "print(\" \")\r\n",
    "print(\"Parameters changed: hidden nodes changed to 2 from 70\")"
   ],
   "outputs": [
    {
     "output_type": "stream",
     "name": "stdout",
     "text": [
      "\n",
      "   Error:      292.70005\n",
      "Accuracy:        75.389\n",
      "\n",
      "   Error:      278.73472\n",
      "Accuracy:        75.389\n",
      "\n",
      "   Error:      244.26737\n",
      "Accuracy:        75.389\n",
      "\n",
      "   Error:      223.87337\n",
      "Accuracy:        79.065\n",
      "\n",
      "   Error:      214.62326\n",
      "Accuracy:        80.685\n",
      "\n",
      "   Error:      198.85521\n",
      "Accuracy:        81.43299999999999\n",
      "\n",
      "   Error:      189.21906\n",
      "Accuracy:        82.928\n",
      "\n",
      "   Error:      181.97292\n",
      "Accuracy:        83.863\n",
      "\n",
      "   Error:      178.23802\n",
      "Accuracy:        84.548\n",
      "\n",
      "   Error:      174.15812\n",
      "Accuracy:        84.611\n",
      "\n",
      ":: TESTING ::\n",
      "\n",
      "   Error:      3528.05973\n",
      "Accuracy:        83.71600000000001\n",
      " \n",
      "Parameters changed: hidden nodes changed to 2 from 70\n"
     ]
    }
   ],
   "metadata": {
    "scrolled": true
   }
  },
  {
   "cell_type": "code",
   "execution_count": null,
   "source": [
    "MLP3_ONELAYER_A = MultiLayer_Perceptron(train,1,70)\r\n",
    "MLP3_ONELAYER_A.fit(y_train,lr=.01,ep_ch=10,batch_size=8,prt_frq=1)\r\n",
    "print(\"\\n:: TESTING ::\")\r\n",
    "MLP3_ONELAYER_A.score(y_test,test)   # testing score\r\n",
    "print(\" \")\r\n",
    "print(\"Parameters changed: learing rate changed to .01 from .1\")"
   ],
   "outputs": [
    {
     "output_type": "stream",
     "name": "stdout",
     "text": [
      "\n",
      "   Error:      279.52934\n",
      "Accuracy:        76.947\n",
      "\n",
      "   Error:      256.4659\n",
      "Accuracy:        76.947\n",
      "\n",
      "   Error:      238.32183\n",
      "Accuracy:        79.751\n",
      "\n",
      "   Error:      225.46171\n",
      "Accuracy:        80.81\n",
      "\n",
      "   Error:      218.65894\n",
      "Accuracy:        81.37100000000001\n",
      "\n",
      "   Error:      212.41528\n",
      "Accuracy:        81.745\n",
      "\n",
      "   Error:      207.41371\n",
      "Accuracy:        81.931\n",
      "\n",
      "   Error:      203.37719\n",
      "Accuracy:        82.43\n",
      "\n",
      "   Error:      199.97214\n",
      "Accuracy:        82.555\n",
      "\n",
      "   Error:      203.56129\n",
      "Accuracy:        82.118\n",
      "\n",
      ":: TESTING ::\n",
      "\n",
      "   Error:      3879.41079\n",
      "Accuracy:        82.268\n",
      " \n",
      "Parameters changed: learing rate changed to .01 from .1\n"
     ]
    }
   ],
   "metadata": {
    "scrolled": true
   }
  },
  {
   "cell_type": "code",
   "execution_count": null,
   "source": [
    "MLP4_ONELAYER_A = MultiLayer_Perceptron(train,1,70)\r\n",
    "MLP4_ONELAYER_A.fit(y_train,lr=.1,ep_ch=10,batch_size=16,prt_frq=1)\r\n",
    "print(\"\\n:: TESTING ::\")\r\n",
    "MLP4_ONELAYER_A.score(y_test,test)   # testing score\r\n",
    "print(\" \")\r\n",
    "print(\"Parameters changed: batch size changed to 16 from 8\")"
   ],
   "outputs": [
    {
     "output_type": "stream",
     "name": "stdout",
     "text": [
      "\n",
      "   Error:      263.59454\n",
      "Accuracy:        79.065\n",
      "\n",
      "   Error:      307.66422\n",
      "Accuracy:        77.383\n",
      "\n",
      "   Error:      245.2194\n",
      "Accuracy:        78.069\n",
      "\n",
      "   Error:      179.95199\n",
      "Accuracy:        84.611\n",
      "\n",
      "   Error:      182.75926\n",
      "Accuracy:        84.486\n",
      "\n",
      "   Error:      217.29908\n",
      "Accuracy:        82.741\n",
      "\n",
      "   Error:      172.12274\n",
      "Accuracy:        85.109\n",
      "\n",
      "   Error:      186.174\n",
      "Accuracy:        84.86\n",
      "\n",
      "   Error:      168.68821\n",
      "Accuracy:        85.67\n",
      "\n",
      "   Error:      180.42385\n",
      "Accuracy:        85.17099999999999\n",
      "\n",
      ":: TESTING ::\n",
      "\n",
      "   Error:      3835.0332\n",
      "Accuracy:        83.738\n",
      " \n",
      "Parameters changed: batch size changed to 16 from 8\n"
     ]
    }
   ],
   "metadata": {
    "scrolled": true
   }
  },
  {
   "cell_type": "markdown",
   "source": [
    "ONE LAYER and the user used the second hidden_node parameter"
   ],
   "metadata": {}
  },
  {
   "cell_type": "code",
   "execution_count": null,
   "source": [
    "MLP_ONELAYER_B.fit(y_train,lr=.1,ep_ch=10,batch_size=8,prt_frq=1)\r\n",
    "print(\"\\n:: TESTING ::\")\r\n",
    "MLP_ONELAYER_B.score(y_test,test)   # testing score"
   ],
   "outputs": [
    {
     "output_type": "stream",
     "name": "stdout",
     "text": [
      "\n",
      "   Error:      237.35541\n",
      "Accuracy:        77.072\n",
      "\n",
      "   Error:      189.79052\n",
      "Accuracy:        82.368\n",
      "\n",
      "   Error:      185.27869\n",
      "Accuracy:        82.991\n",
      "\n",
      "   Error:      181.89632\n",
      "Accuracy:        83.801\n",
      "\n",
      "   Error:      179.30781\n",
      "Accuracy:        84.05\n",
      "\n",
      "   Error:      181.16947\n",
      "Accuracy:        83.738\n",
      "\n",
      "   Error:      194.10352\n",
      "Accuracy:        83.11500000000001\n",
      "\n",
      "   Error:      308.31703\n",
      "Accuracy:        73.333\n",
      "\n",
      "   Error:      240.2877\n",
      "Accuracy:        80.498\n",
      "\n",
      "   Error:      159.17914\n",
      "Accuracy:        86.355\n",
      "\n",
      ":: TESTING ::\n",
      "\n",
      "   Error:      3525.96607\n",
      "Accuracy:        84.016\n"
     ]
    }
   ],
   "metadata": {
    "scrolled": true
   }
  },
  {
   "cell_type": "code",
   "execution_count": null,
   "source": [
    "MLP2_ONELAYER_B = MultiLayer_Perceptron(train,1,hidden_nodes2=70)\r\n",
    "MLP2_ONELAYER_B.fit(y_train,lr=.1,ep_ch=10,batch_size=8,prt_frq=1)\r\n",
    "print(\"\\n:: TESTING ::\")\r\n",
    "MLP2_ONELAYER_B.score(y_test,test)   # testing score\r\n",
    "print(\" \")\r\n",
    "print(\"Parameters changed: hidden nodes changed to 70 from 50\")"
   ],
   "outputs": [
    {
     "output_type": "stream",
     "name": "stdout",
     "text": [
      "\n",
      "   Error:      205.24675\n",
      "Accuracy:        81.682\n",
      "\n",
      "   Error:      194.68689\n",
      "Accuracy:        83.489\n",
      "\n",
      "   Error:      178.97211\n",
      "Accuracy:        84.237\n",
      "\n",
      "   Error:      171.96123\n",
      "Accuracy:        84.86\n",
      "\n",
      "   Error:      175.0549\n",
      "Accuracy:        84.735\n",
      "\n",
      "   Error:      203.21704\n",
      "Accuracy:        81.246\n",
      "\n",
      "   Error:      175.7548\n",
      "Accuracy:        84.673\n",
      "\n",
      "   Error:      293.61563\n",
      "Accuracy:        74.206\n",
      "\n",
      "   Error:      159.00938\n",
      "Accuracy:        87.103\n",
      "\n",
      "   Error:      191.65163\n",
      "Accuracy:        83.11500000000001\n",
      "\n",
      ":: TESTING ::\n",
      "\n",
      "   Error:      4242.41362\n",
      "Accuracy:        80.634\n",
      " \n",
      "Parameters changed: hidden nodes changed to 70 from 50\n"
     ]
    }
   ],
   "metadata": {
    "scrolled": true
   }
  },
  {
   "cell_type": "code",
   "execution_count": null,
   "source": [
    "MLP3_ONELAYER_B = MultiLayer_Perceptron(train,1,hidden_nodes2=50)\r\n",
    "MLP3_ONELAYER_B.fit(y_train,lr=.01,ep_ch=10,batch_size=8,prt_frq=1)\r\n",
    "print(\"\\n:: TESTING ::\")\r\n",
    "MLP3_ONELAYER_B.score(y_test,test)   # testing score\r\n",
    "print(\" \")\r\n",
    "print(\"Parameters changed: learning rate changed to .01 from .1\")"
   ],
   "outputs": [
    {
     "output_type": "stream",
     "name": "stdout",
     "text": [
      "\n",
      "   Error:      265.05896\n",
      "Accuracy:        74.766\n",
      "\n",
      "   Error:      247.93557\n",
      "Accuracy:        76.75999999999999\n",
      "\n",
      "   Error:      235.97831\n",
      "Accuracy:        78.193\n",
      "\n",
      "   Error:      236.53893\n",
      "Accuracy:        78.692\n",
      "\n",
      "   Error:      221.51776\n",
      "Accuracy:        80.0\n",
      "\n",
      "   Error:      214.78469\n",
      "Accuracy:        81.246\n",
      "\n",
      "   Error:      212.43453\n",
      "Accuracy:        81.059\n",
      "\n",
      "   Error:      207.32368\n",
      "Accuracy:        81.682\n",
      "\n",
      "   Error:      202.68994\n",
      "Accuracy:        81.931\n",
      "\n",
      "   Error:      200.42078\n",
      "Accuracy:        81.49499999999999\n",
      "\n",
      ":: TESTING ::\n",
      "\n",
      "   Error:      3785.17442\n",
      "Accuracy:        82.64\n",
      " \n",
      "Parameters changed: learning rate changed to .01 from .1\n"
     ]
    }
   ],
   "metadata": {
    "scrolled": true
   }
  },
  {
   "cell_type": "code",
   "execution_count": null,
   "source": [
    "MLP4_ONELAYER_B = MultiLayer_Perceptron(train,1,hidden_nodes2=50)\n",
    "MLP4_ONELAYER_B.fit(y_train,lr=.1,ep_ch=10,batch_size=16,prt_frq=1)\n",
    "print(\"\\n:: TESTING ::\")\n",
    "MLP4_ONELAYER_B.score(y_test,test)   # testing score\n",
    "print(\" \")\n",
    "print(\"Parameters changed: batch size changed to 16 from 8\")"
   ],
   "outputs": [
    {
     "output_type": "stream",
     "name": "stdout",
     "text": [
      "\n",
      "   Error:      283.89792\n",
      "Accuracy:        77.196\n",
      "\n",
      "   Error:      180.32819\n",
      "Accuracy:        83.489\n",
      "\n",
      "   Error:      177.02887\n",
      "Accuracy:        84.112\n",
      "\n",
      "   Error:      206.25883\n",
      "Accuracy:        81.49499999999999\n",
      "\n",
      "   Error:      201.92008\n",
      "Accuracy:        81.62\n",
      "\n",
      "   Error:      189.09476\n",
      "Accuracy:        84.42399999999999\n",
      "\n",
      "   Error:      164.16888\n",
      "Accuracy:        86.23100000000001\n",
      "\n",
      "   Error:      174.17968\n",
      "Accuracy:        85.047\n",
      "\n",
      "   Error:      163.59085\n",
      "Accuracy:        86.29299999999999\n",
      "\n",
      "   Error:      159.78941\n",
      "Accuracy:        86.417\n",
      "\n",
      ":: TESTING ::\n",
      "\n",
      "   Error:      3640.18686\n",
      "Accuracy:        83.89999999999999\n",
      " \n",
      "Parameters changed: batch size changed to 16 from 8\n"
     ]
    }
   ],
   "metadata": {
    "scrolled": true
   }
  },
  {
   "cell_type": "markdown",
   "source": [
    "TWO LAYER"
   ],
   "metadata": {}
  },
  {
   "cell_type": "code",
   "execution_count": null,
   "source": [
    "MLP2_TWOLAYER = MultiLayer_Perceptron(train,1,2,2)\n",
    "MLP2_TWOLAYER.fit(y_train,lr=.1,ep_ch=10,batch_size=8,prt_frq=1)\n",
    "print(\"\\n:: TESTING ::\")\n",
    "MLP2_TWOLAYER.score(y_test,test)   # testing score\n",
    "print(\" \")\n",
    "print(\"Parameters changed: hidden nodes structure changed to 2, 2 from 70, 50\")"
   ],
   "outputs": [
    {
     "output_type": "stream",
     "name": "stdout",
     "text": [
      "\n",
      "   Error:      296.55081\n",
      "Accuracy:        75.389\n",
      "\n",
      "   Error:      295.24923\n",
      "Accuracy:        75.389\n",
      "\n",
      "   Error:      291.25495\n",
      "Accuracy:        75.389\n",
      "\n",
      "   Error:      286.48458\n",
      "Accuracy:        75.389\n",
      "\n",
      "   Error:      263.94465\n",
      "Accuracy:        75.389\n",
      "\n",
      "   Error:      238.70279\n",
      "Accuracy:        75.389\n",
      "\n",
      "   Error:      216.12905\n",
      "Accuracy:        80.935\n",
      "\n",
      "   Error:      211.81722\n",
      "Accuracy:        80.312\n",
      "\n",
      "   Error:      198.6649\n",
      "Accuracy:        81.807\n",
      "\n",
      "   Error:      190.06701\n",
      "Accuracy:        82.555\n",
      "\n",
      ":: TESTING ::\n",
      "\n",
      "   Error:      3623.26566\n",
      "Accuracy:        83.396\n",
      " \n",
      "Parameters changed: hidden nodes structure changed to 2, 2 from 70, 50\n"
     ]
    }
   ],
   "metadata": {
    "scrolled": true
   }
  },
  {
   "cell_type": "code",
   "execution_count": null,
   "source": [
    "MLP3_TWOLAYER = MultiLayer_Perceptron(train,1,70,50)\n",
    "MLP3_TWOLAYER.fit(y_train,lr=.01,ep_ch=10,batch_size=8,prt_frq=1)\n",
    "print(\"\\n:: TESTING ::\")\n",
    "MLP3_TWOLAYER.score(y_test,test)   # testing score\n",
    "print(\" \")\n",
    "print(\"Parameters changed: learning rate changed to .01 from .1\")"
   ],
   "outputs": [
    {
     "output_type": "stream",
     "name": "stdout",
     "text": [
      "\n",
      "   Error:      254.99204\n",
      "Accuracy:        75.763\n",
      "\n",
      "   Error:      237.74106\n",
      "Accuracy:        77.508\n",
      "\n",
      "   Error:      230.61994\n",
      "Accuracy:        77.819\n",
      "\n",
      "   Error:      220.50651\n",
      "Accuracy:        79.938\n",
      "\n",
      "   Error:      219.16217\n",
      "Accuracy:        79.43900000000001\n",
      "\n",
      "   Error:      212.28408\n",
      "Accuracy:        80.74799999999999\n",
      "\n",
      "   Error:      209.99077\n",
      "Accuracy:        80.685\n",
      "\n",
      "   Error:      204.32159\n",
      "Accuracy:        81.059\n",
      "\n",
      "   Error:      201.17527\n",
      "Accuracy:        81.49499999999999\n",
      "\n",
      "   Error:      201.66742\n",
      "Accuracy:        80.872\n",
      "\n",
      ":: TESTING ::\n",
      "\n",
      "   Error:      3831.63104\n",
      "Accuracy:        82.171\n",
      " \n",
      "Parameters changed: learning rate changed to .01 from .1\n"
     ]
    }
   ],
   "metadata": {
    "scrolled": true
   }
  },
  {
   "cell_type": "code",
   "execution_count": null,
   "source": [
    "MLP4_TWOLAYER = MultiLayer_Perceptron(train,1,70,50)\n",
    "MLP4_TWOLAYER.fit(y_train,lr=.1,ep_ch=10,batch_size=16,prt_frq=1)\n",
    "print(\"\\n:: TESTING ::\")\n",
    "MLP4_TWOLAYER.score(y_test,test)   # testing score\n",
    "print(\" \")\n",
    "print(\"Parameters changed: batch size changed to 16 from 8\")"
   ],
   "outputs": [
    {
     "output_type": "stream",
     "name": "stdout",
     "text": [
      "\n",
      "   Error:      340.32366\n",
      "Accuracy:        75.389\n",
      "\n",
      "   Error:      210.91809\n",
      "Accuracy:        80.81\n",
      "\n",
      "   Error:      195.69514\n",
      "Accuracy:        83.42699999999999\n",
      "\n",
      "   Error:      214.79998\n",
      "Accuracy:        82.61699999999999\n",
      "\n",
      "   Error:      184.01187\n",
      "Accuracy:        83.738\n",
      "\n",
      "   Error:      180.91315\n",
      "Accuracy:        84.548\n",
      "\n",
      "   Error:      218.08905\n",
      "Accuracy:        82.61699999999999\n",
      "\n",
      "   Error:      181.18802\n",
      "Accuracy:        85.17099999999999\n",
      "\n",
      "   Error:      221.23618\n",
      "Accuracy:        82.679\n",
      "\n",
      "   Error:      166.39608\n",
      "Accuracy:        85.358\n",
      "\n",
      ":: TESTING ::\n",
      "\n",
      "   Error:      3665.37882\n",
      "Accuracy:        83.363\n",
      " \n",
      "Parameters changed: batch size changed to 16 from 8\n"
     ]
    }
   ],
   "metadata": {
    "scrolled": true
   }
  },
  {
   "cell_type": "markdown",
   "source": [
    "# XOR"
   ],
   "metadata": {}
  },
  {
   "cell_type": "code",
   "execution_count": null,
   "source": [
    "import numpy as np\n",
    "from sklearn.utils import shuffle\n",
    "from matplotlib import pyplot as plt\n",
    "\n",
    "input_nodes = np.array([[0,0],[1,0],[0,1],[1,1]]).reshape(4,2) #np.ones((1,10))\n",
    "output_nodes = np.array([0,1,1,0]).reshape(4,1)\n",
    "\n",
    "in_test = np.array([[1,0],[0,1],[1,1],[0,0]]).reshape(4,2)\n",
    "out_test = np.array([1,1,0,0]).reshape(4,1)"
   ],
   "outputs": [],
   "metadata": {}
  },
  {
   "cell_type": "code",
   "execution_count": null,
   "source": [
    "XOR_MLP = MultiLayer_Perceptron(input_nodes,1,2,2)"
   ],
   "outputs": [],
   "metadata": {}
  },
  {
   "cell_type": "code",
   "execution_count": null,
   "source": [
    "XOR_MLP.fit(output_nodes,lr=.2,ep_ch=25000,batch_size=8,prt_frq=2500)"
   ],
   "outputs": [
    {
     "output_type": "stream",
     "name": "stdout",
     "text": [
      "\n",
      "   Error:      0.99188\n",
      "Accuracy:        75.0\n",
      "\n",
      "   Error:      0.01045\n",
      "Accuracy:        100.0\n",
      "\n",
      "   Error:      0.00239\n",
      "Accuracy:        100.0\n",
      "\n",
      "   Error:      0.00126\n",
      "Accuracy:        100.0\n",
      "\n",
      "   Error:      0.00084\n",
      "Accuracy:        100.0\n",
      "\n",
      "   Error:      0.00062\n",
      "Accuracy:        100.0\n",
      "\n",
      "   Error:      0.00049\n",
      "Accuracy:        100.0\n",
      "\n",
      "   Error:      0.00041\n",
      "Accuracy:        100.0\n",
      "\n",
      "   Error:      0.00034\n",
      "Accuracy:        100.0\n",
      "\n",
      "   Error:      0.0003\n",
      "Accuracy:        100.0\n"
     ]
    }
   ],
   "metadata": {
    "scrolled": true
   }
  },
  {
   "cell_type": "code",
   "execution_count": null,
   "source": [
    "print(\":: TRAINING ::\")\n",
    "print(\"\\n\",XOR_MLP.predict(input_nodes))     # training prediction\n",
    "XOR_MLP.score(output_nodes,input_nodes) # training score\n",
    "\n",
    "print(\"\\n:: TESTING ::\")\n",
    "print(\"\\n\",XOR_MLP.predict(in_test))         # testing prediction\n",
    "XOR_MLP.score(out_test,in_test)         # testing score"
   ],
   "outputs": [
    {
     "output_type": "stream",
     "name": "stdout",
     "text": [
      ":: TRAINING ::\n",
      "\n",
      " [[0.00855362]\n",
      " [0.99049937]\n",
      " [0.9904983 ]\n",
      " [0.00664926]]\n",
      "\n",
      "   Error:      0.0003\n",
      "Accuracy:        100.0\n",
      "\n",
      ":: TESTING ::\n",
      "\n",
      " [[0.99049937]\n",
      " [0.9904983 ]\n",
      " [0.00664926]\n",
      " [0.00855362]]\n",
      "\n",
      "   Error:      0.0003\n",
      "Accuracy:        100.0\n"
     ]
    }
   ],
   "metadata": {
    "scrolled": true
   }
  },
  {
   "cell_type": "code",
   "execution_count": null,
   "source": [
    "XOR_MLP2 = MultiLayer_Perceptron(input_nodes,1,4,2)\n",
    "XOR_MLP2.fit(output_nodes,lr=.1,ep_ch=10000,batch_size=8,prt_frq=1000)\n",
    "\n",
    "print(\"Parameters changed: hidden nodes structure changed to 4, 2 from 2, 2 \")"
   ],
   "outputs": [
    {
     "output_type": "stream",
     "name": "stdout",
     "text": [
      "\n",
      "   Error:      0.99661\n",
      "Accuracy:        50.0\n",
      "\n",
      "   Error:      0.99101\n",
      "Accuracy:        75.0\n",
      "\n",
      "   Error:      0.96307\n",
      "Accuracy:        75.0\n",
      "\n",
      "   Error:      0.80886\n",
      "Accuracy:        75.0\n",
      "\n",
      "   Error:      0.30442\n",
      "Accuracy:        100.0\n",
      "\n",
      "   Error:      0.02462\n",
      "Accuracy:        100.0\n",
      "\n",
      "   Error:      0.00997\n",
      "Accuracy:        100.0\n",
      "\n",
      "   Error:      0.00595\n",
      "Accuracy:        100.0\n",
      "\n",
      "   Error:      0.00416\n",
      "Accuracy:        100.0\n",
      "\n",
      "   Error:      0.00317\n",
      "Accuracy:        100.0\n",
      "Parameters changed: hidden nodes structure changed to 4, 2 from 2, 2 \n"
     ]
    }
   ],
   "metadata": {}
  },
  {
   "cell_type": "code",
   "execution_count": null,
   "source": [
    "print(\":: TRAINING ::\")\n",
    "print(\"\\n\",XOR_MLP2.predict(input_nodes))     # training prediction\n",
    "XOR_MLP2.score(output_nodes,input_nodes) # training score\n",
    "print(\"\\n\",output_nodes)\n",
    "\n",
    "print(\"\\n:: TESTING ::\")\n",
    "print(\"\\n\",XOR_MLP2.predict(in_test))         # testing prediction\n",
    "XOR_MLP2.score(out_test,in_test)         # testing score\n",
    "print(\"\\n\",out_test)"
   ],
   "outputs": [
    {
     "output_type": "stream",
     "name": "stdout",
     "text": [
      ":: TRAINING ::\n",
      "\n",
      " [[0.02616114]\n",
      " [0.96780667]\n",
      " [0.97160212]\n",
      " [0.02528473]]\n",
      "\n",
      "   Error:      0.00317\n",
      "Accuracy:        100.0\n",
      "\n",
      " [[0]\n",
      " [1]\n",
      " [1]\n",
      " [0]]\n",
      "\n",
      ":: TESTING ::\n",
      "\n",
      " [[0.96780667]\n",
      " [0.97160212]\n",
      " [0.02528473]\n",
      " [0.02616114]]\n",
      "\n",
      "   Error:      0.00317\n",
      "Accuracy:        100.0\n",
      "\n",
      " [[1]\n",
      " [1]\n",
      " [0]\n",
      " [0]]\n"
     ]
    }
   ],
   "metadata": {}
  },
  {
   "cell_type": "code",
   "execution_count": null,
   "source": [
    "wei2_XOR, wei1_XOR, wei0_XOR = XOR_MLP.get_weights()"
   ],
   "outputs": [],
   "metadata": {}
  },
  {
   "cell_type": "markdown",
   "source": [
    "   "
   ],
   "metadata": {}
  },
  {
   "cell_type": "markdown",
   "source": [
    "# other"
   ],
   "metadata": {}
  },
  {
   "cell_type": "code",
   "execution_count": null,
   "source": [
    "plt.grid()\n",
    "fitted = MLP_ZEROLAYER.predict(train)\n",
    "resid = y_train.reshape(-1,1)-fitted\n",
    "plt.scatter(resid,fitted)"
   ],
   "outputs": [
    {
     "output_type": "execute_result",
     "data": {
      "text/plain": [
       "<matplotlib.collections.PathCollection at 0x1d984075df0>"
      ]
     },
     "metadata": {},
     "execution_count": 34
    },
    {
     "output_type": "display_data",
     "data": {
      "image/png": "[encoded data removed]",
      "text/plain": [
       "<Figure size 432x288 with 1 Axes>"
      ]
     },
     "metadata": {
      "needs_background": "light"
     }
    }
   ],
   "metadata": {}
  },
  {
   "cell_type": "code",
   "execution_count": null,
   "source": [
    "plt.grid()\n",
    "resid2 = pd.DataFrame(resid).round()\n",
    "plt.scatter(resid2,y_train.reshape(-1,1))"
   ],
   "outputs": [
    {
     "output_type": "execute_result",
     "data": {
      "text/plain": [
       "<matplotlib.collections.PathCollection at 0x1d985e83100>"
      ]
     },
     "metadata": {},
     "execution_count": 35
    },
    {
     "output_type": "display_data",
     "data": {
      "image/png": "[encoded data removed]",
      "text/plain": [
       "<Figure size 432x288 with 1 Axes>"
      ]
     },
     "metadata": {
      "needs_background": "light"
     }
    }
   ],
   "metadata": {}
  },
  {
   "cell_type": "code",
   "execution_count": null,
   "source": [
    "plt.grid()\n",
    "fitted = MLP2_TWOLAYER.predict(train)\n",
    "resid = y_train.reshape(-1,1)-fitted\n",
    "plt.scatter(resid,fitted)"
   ],
   "outputs": [
    {
     "output_type": "execute_result",
     "data": {
      "text/plain": [
       "<matplotlib.collections.PathCollection at 0x1d985ef3250>"
      ]
     },
     "metadata": {},
     "execution_count": 36
    },
    {
     "output_type": "display_data",
     "data": {
      "image/png": "[encoded data removed]",
      "text/plain": [
       "<Figure size 432x288 with 1 Axes>"
      ]
     },
     "metadata": {
      "needs_background": "light"
     }
    }
   ],
   "metadata": {}
  },
  {
   "cell_type": "code",
   "execution_count": null,
   "source": [
    "plt.grid()\n",
    "resid2 = pd.DataFrame(resid).round()\n",
    "plt.scatter(resid2,y_train.reshape(-1,1))"
   ],
   "outputs": [
    {
     "output_type": "execute_result",
     "data": {
      "text/plain": [
       "<matplotlib.collections.PathCollection at 0x1d985f2b6a0>"
      ]
     },
     "metadata": {},
     "execution_count": 37
    },
    {
     "output_type": "display_data",
     "data": {
      "image/png": "[encoded data removed]",
      "text/plain": [
       "<Figure size 432x288 with 1 Axes>"
      ]
     },
     "metadata": {
      "needs_background": "light"
     }
    }
   ],
   "metadata": {}
  },
  {
   "cell_type": "code",
   "execution_count": null,
   "source": [],
   "outputs": [],
   "metadata": {}
  },
  {
   "cell_type": "code",
   "execution_count": null,
   "source": [],
   "outputs": [],
   "metadata": {}
  },
  {
   "cell_type": "code",
   "execution_count": null,
   "source": [],
   "outputs": [],
   "metadata": {}
  },
  {
   "cell_type": "code",
   "execution_count": null,
   "source": [],
   "outputs": [],
   "metadata": {}
  },
  {
   "cell_type": "code",
   "execution_count": null,
   "source": [],
   "outputs": [],
   "metadata": {}
  },
  {
   "cell_type": "code",
   "execution_count": null,
   "source": [],
   "outputs": [],
   "metadata": {}
  }
 ],
 "metadata": {
  "kernelspec": {
   "name": "python3",
   "display_name": "Python 3.9.6 64-bit"
  },
  "language_info": {
   "codemirror_mode": {
    "name": "ipython",
    "version": 3
   },
   "file_extension": ".py",
   "mimetype": "text/x-python",
   "name": "python",
   "nbconvert_exporter": "python",
   "pygments_lexer": "ipython3",
   "version": "3.9.6"
  },
  "interpreter": {
   "hash": "bb0c12714f8f93136a9a3c34011737045b78135c2e63c7c8b492c7ed8a6912b2"
  }
 },
 "nbformat": 4,
 "nbformat_minor": 4
}